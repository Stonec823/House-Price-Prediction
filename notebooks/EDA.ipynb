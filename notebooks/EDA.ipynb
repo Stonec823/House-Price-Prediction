{
 "cells": [
  {
   "cell_type": "code",
   "execution_count": 93,
   "metadata": {},
   "outputs": [
    {
     "data": {
      "text/html": [
       "<div>\n",
       "<style scoped>\n",
       "    .dataframe tbody tr th:only-of-type {\n",
       "        vertical-align: middle;\n",
       "    }\n",
       "\n",
       "    .dataframe tbody tr th {\n",
       "        vertical-align: top;\n",
       "    }\n",
       "\n",
       "    .dataframe thead th {\n",
       "        text-align: right;\n",
       "    }\n",
       "</style>\n",
       "<table border=\"1\" class=\"dataframe\">\n",
       "  <thead>\n",
       "    <tr style=\"text-align: right;\">\n",
       "      <th></th>\n",
       "      <th>status</th>\n",
       "      <th>bed</th>\n",
       "      <th>bath</th>\n",
       "      <th>acre_lot</th>\n",
       "      <th>city</th>\n",
       "      <th>state</th>\n",
       "      <th>zip_code</th>\n",
       "      <th>house_size</th>\n",
       "      <th>prev_sold_date</th>\n",
       "      <th>price</th>\n",
       "    </tr>\n",
       "  </thead>\n",
       "  <tbody>\n",
       "    <tr>\n",
       "      <th>0</th>\n",
       "      <td>for_sale</td>\n",
       "      <td>3.0</td>\n",
       "      <td>2.0</td>\n",
       "      <td>0.12</td>\n",
       "      <td>Adjuntas</td>\n",
       "      <td>Puerto Rico</td>\n",
       "      <td>601.0</td>\n",
       "      <td>920.0</td>\n",
       "      <td>NaN</td>\n",
       "      <td>105000.0</td>\n",
       "    </tr>\n",
       "    <tr>\n",
       "      <th>1</th>\n",
       "      <td>for_sale</td>\n",
       "      <td>4.0</td>\n",
       "      <td>2.0</td>\n",
       "      <td>0.08</td>\n",
       "      <td>Adjuntas</td>\n",
       "      <td>Puerto Rico</td>\n",
       "      <td>601.0</td>\n",
       "      <td>1527.0</td>\n",
       "      <td>NaN</td>\n",
       "      <td>80000.0</td>\n",
       "    </tr>\n",
       "    <tr>\n",
       "      <th>2</th>\n",
       "      <td>for_sale</td>\n",
       "      <td>2.0</td>\n",
       "      <td>1.0</td>\n",
       "      <td>0.15</td>\n",
       "      <td>Juana Diaz</td>\n",
       "      <td>Puerto Rico</td>\n",
       "      <td>795.0</td>\n",
       "      <td>748.0</td>\n",
       "      <td>NaN</td>\n",
       "      <td>67000.0</td>\n",
       "    </tr>\n",
       "    <tr>\n",
       "      <th>3</th>\n",
       "      <td>for_sale</td>\n",
       "      <td>4.0</td>\n",
       "      <td>2.0</td>\n",
       "      <td>0.10</td>\n",
       "      <td>Ponce</td>\n",
       "      <td>Puerto Rico</td>\n",
       "      <td>731.0</td>\n",
       "      <td>1800.0</td>\n",
       "      <td>NaN</td>\n",
       "      <td>145000.0</td>\n",
       "    </tr>\n",
       "    <tr>\n",
       "      <th>4</th>\n",
       "      <td>for_sale</td>\n",
       "      <td>6.0</td>\n",
       "      <td>2.0</td>\n",
       "      <td>0.05</td>\n",
       "      <td>Mayaguez</td>\n",
       "      <td>Puerto Rico</td>\n",
       "      <td>680.0</td>\n",
       "      <td>NaN</td>\n",
       "      <td>NaN</td>\n",
       "      <td>65000.0</td>\n",
       "    </tr>\n",
       "  </tbody>\n",
       "</table>\n",
       "</div>"
      ],
      "text/plain": [
       "     status  bed  bath  acre_lot        city        state  zip_code  \\\n",
       "0  for_sale  3.0   2.0      0.12    Adjuntas  Puerto Rico     601.0   \n",
       "1  for_sale  4.0   2.0      0.08    Adjuntas  Puerto Rico     601.0   \n",
       "2  for_sale  2.0   1.0      0.15  Juana Diaz  Puerto Rico     795.0   \n",
       "3  for_sale  4.0   2.0      0.10       Ponce  Puerto Rico     731.0   \n",
       "4  for_sale  6.0   2.0      0.05    Mayaguez  Puerto Rico     680.0   \n",
       "\n",
       "   house_size prev_sold_date     price  \n",
       "0       920.0            NaN  105000.0  \n",
       "1      1527.0            NaN   80000.0  \n",
       "2       748.0            NaN   67000.0  \n",
       "3      1800.0            NaN  145000.0  \n",
       "4         NaN            NaN   65000.0  "
      ]
     },
     "execution_count": 93,
     "metadata": {},
     "output_type": "execute_result"
    }
   ],
   "source": [
    "import pandas as pd\n",
    "import numpy as np\n",
    "from matplotlib import pyplot as plt\n",
    "import seaborn as sns\n",
    "\n",
    "df = pd.read_csv('/Users/cstone/Repositories/House-Price-Prediction_Multiple-Regression/data/raw/realtor-data.zip.csv')\n",
    "\n",
    "df.head()"
   ]
  },
  {
   "cell_type": "markdown",
   "metadata": {},
   "source": [
    "This notebook will be used to explore the dataset and determine cleaning and transformations needed before modeling. The final data cleaning script will be added to the source folder"
   ]
  },
  {
   "cell_type": "code",
   "execution_count": null,
   "metadata": {},
   "outputs": [],
   "source": [
    "import pandas as pd\n",
    "import numpy as np\n",
    "from matplotlib import pyplot as plt\n",
    "import seaborn as sns\n",
    "\n",
    "df = pd.read_csv('/Users/cstone/Repositories/House-Price-Prediction_Multiple-Regression/data/raw/realtor-data.zip.csv')\n",
    "\n",
    "df.head()"
   ]
  },
  {
   "cell_type": "code",
   "execution_count": 67,
   "metadata": {},
   "outputs": [
    {
     "data": {
      "text/plain": [
       "(1401066, 10)"
      ]
     },
     "execution_count": 67,
     "metadata": {},
     "output_type": "execute_result"
    }
   ],
   "source": [
    "df.shape"
   ]
  },
  {
   "cell_type": "code",
   "execution_count": 68,
   "metadata": {},
   "outputs": [
    {
     "data": {
      "text/plain": [
       "status                 0\n",
       "bed               216528\n",
       "bath              194213\n",
       "acre_lot          357467\n",
       "city                 191\n",
       "state                  0\n",
       "zip_code             479\n",
       "house_size        450112\n",
       "prev_sold_date    686293\n",
       "price                108\n",
       "dtype: int64"
      ]
     },
     "execution_count": 68,
     "metadata": {},
     "output_type": "execute_result"
    }
   ],
   "source": [
    "df.isna().sum()"
   ]
  },
  {
   "cell_type": "code",
   "execution_count": 69,
   "metadata": {},
   "outputs": [
    {
     "data": {
      "text/html": [
       "<div>\n",
       "<style scoped>\n",
       "    .dataframe tbody tr th:only-of-type {\n",
       "        vertical-align: middle;\n",
       "    }\n",
       "\n",
       "    .dataframe tbody tr th {\n",
       "        vertical-align: top;\n",
       "    }\n",
       "\n",
       "    .dataframe thead th {\n",
       "        text-align: right;\n",
       "    }\n",
       "</style>\n",
       "<table border=\"1\" class=\"dataframe\">\n",
       "  <thead>\n",
       "    <tr style=\"text-align: right;\">\n",
       "      <th></th>\n",
       "      <th>status</th>\n",
       "      <th>bed</th>\n",
       "      <th>bath</th>\n",
       "      <th>acre_lot</th>\n",
       "      <th>city</th>\n",
       "      <th>state</th>\n",
       "      <th>zip_code</th>\n",
       "      <th>house_size</th>\n",
       "      <th>prev_sold_date</th>\n",
       "      <th>price</th>\n",
       "    </tr>\n",
       "  </thead>\n",
       "  <tbody>\n",
       "    <tr>\n",
       "      <th>42</th>\n",
       "      <td>for_sale</td>\n",
       "      <td>NaN</td>\n",
       "      <td>NaN</td>\n",
       "      <td>0.99</td>\n",
       "      <td>Moca</td>\n",
       "      <td>Puerto Rico</td>\n",
       "      <td>676.0</td>\n",
       "      <td>43082.0</td>\n",
       "      <td>NaN</td>\n",
       "      <td>400000.0</td>\n",
       "    </tr>\n",
       "    <tr>\n",
       "      <th>43</th>\n",
       "      <td>for_sale</td>\n",
       "      <td>NaN</td>\n",
       "      <td>NaN</td>\n",
       "      <td>18.45</td>\n",
       "      <td>Hatillo</td>\n",
       "      <td>Puerto Rico</td>\n",
       "      <td>659.0</td>\n",
       "      <td>NaN</td>\n",
       "      <td>NaN</td>\n",
       "      <td>380000.0</td>\n",
       "    </tr>\n",
       "    <tr>\n",
       "      <th>59</th>\n",
       "      <td>for_sale</td>\n",
       "      <td>NaN</td>\n",
       "      <td>NaN</td>\n",
       "      <td>0.88</td>\n",
       "      <td>Aguada</td>\n",
       "      <td>Puerto Rico</td>\n",
       "      <td>602.0</td>\n",
       "      <td>NaN</td>\n",
       "      <td>NaN</td>\n",
       "      <td>35000.0</td>\n",
       "    </tr>\n",
       "    <tr>\n",
       "      <th>60</th>\n",
       "      <td>for_sale</td>\n",
       "      <td>NaN</td>\n",
       "      <td>NaN</td>\n",
       "      <td>0.21</td>\n",
       "      <td>Aguada</td>\n",
       "      <td>Puerto Rico</td>\n",
       "      <td>602.0</td>\n",
       "      <td>NaN</td>\n",
       "      <td>NaN</td>\n",
       "      <td>58000.0</td>\n",
       "    </tr>\n",
       "    <tr>\n",
       "      <th>61</th>\n",
       "      <td>for_sale</td>\n",
       "      <td>NaN</td>\n",
       "      <td>NaN</td>\n",
       "      <td>21.08</td>\n",
       "      <td>Aguada</td>\n",
       "      <td>Puerto Rico</td>\n",
       "      <td>602.0</td>\n",
       "      <td>NaN</td>\n",
       "      <td>NaN</td>\n",
       "      <td>85000.0</td>\n",
       "    </tr>\n",
       "    <tr>\n",
       "      <th>...</th>\n",
       "      <td>...</td>\n",
       "      <td>...</td>\n",
       "      <td>...</td>\n",
       "      <td>...</td>\n",
       "      <td>...</td>\n",
       "      <td>...</td>\n",
       "      <td>...</td>\n",
       "      <td>...</td>\n",
       "      <td>...</td>\n",
       "      <td>...</td>\n",
       "    </tr>\n",
       "    <tr>\n",
       "      <th>1401046</th>\n",
       "      <td>for_sale</td>\n",
       "      <td>NaN</td>\n",
       "      <td>NaN</td>\n",
       "      <td>35.60</td>\n",
       "      <td>Ny</td>\n",
       "      <td>New York</td>\n",
       "      <td>14062.0</td>\n",
       "      <td>1000.0</td>\n",
       "      <td>NaN</td>\n",
       "      <td>124900.0</td>\n",
       "    </tr>\n",
       "    <tr>\n",
       "      <th>1401051</th>\n",
       "      <td>for_sale</td>\n",
       "      <td>NaN</td>\n",
       "      <td>NaN</td>\n",
       "      <td>32.20</td>\n",
       "      <td>Forestville</td>\n",
       "      <td>New York</td>\n",
       "      <td>14062.0</td>\n",
       "      <td>NaN</td>\n",
       "      <td>NaN</td>\n",
       "      <td>164900.0</td>\n",
       "    </tr>\n",
       "    <tr>\n",
       "      <th>1401052</th>\n",
       "      <td>for_sale</td>\n",
       "      <td>NaN</td>\n",
       "      <td>NaN</td>\n",
       "      <td>33.00</td>\n",
       "      <td>Forestville</td>\n",
       "      <td>New York</td>\n",
       "      <td>14062.0</td>\n",
       "      <td>NaN</td>\n",
       "      <td>NaN</td>\n",
       "      <td>94900.0</td>\n",
       "    </tr>\n",
       "    <tr>\n",
       "      <th>1401053</th>\n",
       "      <td>for_sale</td>\n",
       "      <td>NaN</td>\n",
       "      <td>NaN</td>\n",
       "      <td>29.60</td>\n",
       "      <td>Forestville</td>\n",
       "      <td>New York</td>\n",
       "      <td>14062.0</td>\n",
       "      <td>NaN</td>\n",
       "      <td>NaN</td>\n",
       "      <td>99900.0</td>\n",
       "    </tr>\n",
       "    <tr>\n",
       "      <th>1401061</th>\n",
       "      <td>for_sale</td>\n",
       "      <td>NaN</td>\n",
       "      <td>NaN</td>\n",
       "      <td>155.00</td>\n",
       "      <td>Perrysburg</td>\n",
       "      <td>New York</td>\n",
       "      <td>14129.0</td>\n",
       "      <td>NaN</td>\n",
       "      <td>NaN</td>\n",
       "      <td>325000.0</td>\n",
       "    </tr>\n",
       "  </tbody>\n",
       "</table>\n",
       "<p>194213 rows × 10 columns</p>\n",
       "</div>"
      ],
      "text/plain": [
       "           status  bed  bath  acre_lot         city        state  zip_code  \\\n",
       "42       for_sale  NaN   NaN      0.99         Moca  Puerto Rico     676.0   \n",
       "43       for_sale  NaN   NaN     18.45      Hatillo  Puerto Rico     659.0   \n",
       "59       for_sale  NaN   NaN      0.88       Aguada  Puerto Rico     602.0   \n",
       "60       for_sale  NaN   NaN      0.21       Aguada  Puerto Rico     602.0   \n",
       "61       for_sale  NaN   NaN     21.08       Aguada  Puerto Rico     602.0   \n",
       "...           ...  ...   ...       ...          ...          ...       ...   \n",
       "1401046  for_sale  NaN   NaN     35.60           Ny     New York   14062.0   \n",
       "1401051  for_sale  NaN   NaN     32.20  Forestville     New York   14062.0   \n",
       "1401052  for_sale  NaN   NaN     33.00  Forestville     New York   14062.0   \n",
       "1401053  for_sale  NaN   NaN     29.60  Forestville     New York   14062.0   \n",
       "1401061  for_sale  NaN   NaN    155.00   Perrysburg     New York   14129.0   \n",
       "\n",
       "         house_size prev_sold_date     price  \n",
       "42          43082.0            NaN  400000.0  \n",
       "43              NaN            NaN  380000.0  \n",
       "59              NaN            NaN   35000.0  \n",
       "60              NaN            NaN   58000.0  \n",
       "61              NaN            NaN   85000.0  \n",
       "...             ...            ...       ...  \n",
       "1401046      1000.0            NaN  124900.0  \n",
       "1401051         NaN            NaN  164900.0  \n",
       "1401052         NaN            NaN   94900.0  \n",
       "1401053         NaN            NaN   99900.0  \n",
       "1401061         NaN            NaN  325000.0  \n",
       "\n",
       "[194213 rows x 10 columns]"
      ]
     },
     "execution_count": 69,
     "metadata": {},
     "output_type": "execute_result"
    }
   ],
   "source": [
    "df.loc[df['bath'].isnull()]"
   ]
  },
  {
   "cell_type": "markdown",
   "metadata": {},
   "source": [
    "There's lots of missing values for house_size, bed and bath. Will some may be valid (i.e. studio apartments), it appears most are just incomplete. This is consistent with viewing homes on redfin. Sometimes this info is just missing from the listing. Given these will likely be the key factors in determining price, I'll go ahead and exclude the missing rows from the initial dataset"
   ]
  },
  {
   "cell_type": "code",
   "execution_count": 70,
   "metadata": {},
   "outputs": [],
   "source": [
    "df2  = df.dropna(subset=['bed', 'bath', 'house_size'])"
   ]
  },
  {
   "cell_type": "code",
   "execution_count": 71,
   "metadata": {},
   "outputs": [
    {
     "data": {
      "text/plain": [
       "status                 0\n",
       "bed                    0\n",
       "bath                   0\n",
       "acre_lot          230491\n",
       "city                  88\n",
       "state                  0\n",
       "zip_code             115\n",
       "house_size             0\n",
       "prev_sold_date    419713\n",
       "price                  0\n",
       "dtype: int64"
      ]
     },
     "execution_count": 71,
     "metadata": {},
     "output_type": "execute_result"
    }
   ],
   "source": [
    "\n",
    "df2.isna().sum()"
   ]
  },
  {
   "cell_type": "markdown",
   "metadata": {},
   "source": [
    "This still leaves us with half the original data (900k records). There's still a large missing amount of acre lot values. I would hypothesize that most of these are condo/apartments type properties. Since these records have all other information, I feel safe imputing the missing values with 0"
   ]
  },
  {
   "cell_type": "code",
   "execution_count": 72,
   "metadata": {},
   "outputs": [
    {
     "name": "stderr",
     "output_type": "stream",
     "text": [
      "/var/folders/x_/nj1rjg193d57yw4b__nvy9j40000gn/T/ipykernel_74263/3081369541.py:1: SettingWithCopyWarning: \n",
      "A value is trying to be set on a copy of a slice from a DataFrame\n",
      "\n",
      "See the caveats in the documentation: https://pandas.pydata.org/pandas-docs/stable/user_guide/indexing.html#returning-a-view-versus-a-copy\n",
      "  df2['acre_lot'].fillna(0, inplace=True)\n"
     ]
    }
   ],
   "source": [
    "df2['acre_lot'].fillna(0, inplace=True)"
   ]
  },
  {
   "cell_type": "markdown",
   "metadata": {},
   "source": [
    "Next I'll look at some boxplots to examine any outliers"
   ]
  },
  {
   "cell_type": "code",
   "execution_count": 73,
   "metadata": {},
   "outputs": [
    {
     "data": {
      "image/png": "[encoded data removed]",
      "text/plain": [
       "<Figure size 640x480 with 1 Axes>"
      ]
     },
     "metadata": {},
     "output_type": "display_data"
    },
    {
     "data": {
      "image/png": "[encoded data removed]",
      "text/plain": [
       "<Figure size 640x480 with 1 Axes>"
      ]
     },
     "metadata": {},
     "output_type": "display_data"
    },
    {
     "data": {
      "image/png": "[encoded data removed]",
      "text/plain": [
       "<Figure size 640x480 with 1 Axes>"
      ]
     },
     "metadata": {},
     "output_type": "display_data"
    },
    {
     "data": {
      "image/png": "[encoded data removed]",
      "text/plain": [
       "<Figure size 640x480 with 1 Axes>"
      ]
     },
     "metadata": {},
     "output_type": "display_data"
    },
    {
     "data": {
      "image/png": "[encoded data removed]",
      "text/plain": [
       "<Figure size 640x480 with 1 Axes>"
      ]
     },
     "metadata": {},
     "output_type": "display_data"
    }
   ],
   "source": [
    "cols = ['bed', 'bath', 'acre_lot', 'house_size', 'price']\n",
    "\n",
    "for i in cols:\n",
    "    plt.figure()\n",
    "    plt.boxplot(x=i, data=df2)\n",
    "    plt.title(i)\n",
    "\n",
    "#plt.boxplot(x='house_size', data=df2)"
   ]
  },
  {
   "cell_type": "markdown",
   "metadata": {},
   "source": [
    "Most of these outliers will be important to keep as very large houses are still valid listings. However there's a few obvious outliers in price, bath, and house size that should be removed"
   ]
  },
  {
   "cell_type": "code",
   "execution_count": 87,
   "metadata": {},
   "outputs": [],
   "source": [
    "df3 = df2.sort_values(by='house_size', ascending=False)\n",
    "df3 = df3.iloc[10:]\n",
    "df3 = df2.sort_values(by='price', ascending=False)\n",
    "df3 = df3.iloc[10:]\n",
    "df3 = df2.sort_values(by='bath', ascending=False)"
   ]
  },
  {
   "cell_type": "code",
   "execution_count": 88,
   "metadata": {},
   "outputs": [
    {
     "data": {
      "image/png": "[encoded data removed]",
      "text/plain": [
       "<Figure size 640x480 with 1 Axes>"
      ]
     },
     "metadata": {},
     "output_type": "display_data"
    },
    {
     "data": {
      "image/png": "[encoded data removed]",
      "text/plain": [
       "<Figure size 640x480 with 1 Axes>"
      ]
     },
     "metadata": {},
     "output_type": "display_data"
    },
    {
     "data": {
      "image/png": "[encoded data removed]",
      "text/plain": [
       "<Figure size 640x480 with 1 Axes>"
      ]
     },
     "metadata": {},
     "output_type": "display_data"
    },
    {
     "data": {
      "image/png": "[encoded data removed]",
      "text/plain": [
       "<Figure size 640x480 with 1 Axes>"
      ]
     },
     "metadata": {},
     "output_type": "display_data"
    },
    {
     "data": {
      "image/png": "[encoded data removed]",
      "text/plain": [
       "<Figure size 640x480 with 1 Axes>"
      ]
     },
     "metadata": {},
     "output_type": "display_data"
    }
   ],
   "source": [
    "for i in cols:\n",
    "    plt.figure()\n",
    "    plt.boxplot(x=i, data=df3)\n",
    "    plt.title(i)\n"
   ]
  },
  {
   "cell_type": "markdown",
   "metadata": {},
   "source": [
    "With so many missing values for last sold date, it may be best to convert these to a binary variable. Either the house has sold before or it hasnt"
   ]
  },
  {
   "cell_type": "code",
   "execution_count": 89,
   "metadata": {},
   "outputs": [
    {
     "data": {
      "text/plain": [
       "status                 0\n",
       "bed                    0\n",
       "bath                   0\n",
       "acre_lot               0\n",
       "city                   0\n",
       "state                  0\n",
       "zip_code               0\n",
       "house_size             0\n",
       "prev_sold_date    419531\n",
       "price                  0\n",
       "dtype: int64"
      ]
     },
     "execution_count": 89,
     "metadata": {},
     "output_type": "execute_result"
    }
   ],
   "source": [
    "\n",
    "df3  = df3.dropna(subset=['city', 'zip_code'])\n",
    "df3.isna().sum()"
   ]
  },
  {
   "cell_type": "code",
   "execution_count": 96,
   "metadata": {},
   "outputs": [],
   "source": [
    "df3['prev_sold'] = np.where(df3['prev_sold_date'] > '1800-01-01', 1, 0)\n"
   ]
  },
  {
   "cell_type": "code",
   "execution_count": 97,
   "metadata": {},
   "outputs": [
    {
     "data": {
      "text/html": [
       "<div>\n",
       "<style scoped>\n",
       "    .dataframe tbody tr th:only-of-type {\n",
       "        vertical-align: middle;\n",
       "    }\n",
       "\n",
       "    .dataframe tbody tr th {\n",
       "        vertical-align: top;\n",
       "    }\n",
       "\n",
       "    .dataframe thead th {\n",
       "        text-align: right;\n",
       "    }\n",
       "</style>\n",
       "<table border=\"1\" class=\"dataframe\">\n",
       "  <thead>\n",
       "    <tr style=\"text-align: right;\">\n",
       "      <th></th>\n",
       "      <th>status</th>\n",
       "      <th>bed</th>\n",
       "      <th>bath</th>\n",
       "      <th>acre_lot</th>\n",
       "      <th>city</th>\n",
       "      <th>state</th>\n",
       "      <th>zip_code</th>\n",
       "      <th>house_size</th>\n",
       "      <th>prev_sold_date</th>\n",
       "      <th>price</th>\n",
       "    </tr>\n",
       "    <tr>\n",
       "      <th>prev_sold</th>\n",
       "      <th></th>\n",
       "      <th></th>\n",
       "      <th></th>\n",
       "      <th></th>\n",
       "      <th></th>\n",
       "      <th></th>\n",
       "      <th></th>\n",
       "      <th></th>\n",
       "      <th></th>\n",
       "      <th></th>\n",
       "    </tr>\n",
       "  </thead>\n",
       "  <tbody>\n",
       "    <tr>\n",
       "      <th>0</th>\n",
       "      <td>419531</td>\n",
       "      <td>419531</td>\n",
       "      <td>419531</td>\n",
       "      <td>419531</td>\n",
       "      <td>419531</td>\n",
       "      <td>419531</td>\n",
       "      <td>419531</td>\n",
       "      <td>419531</td>\n",
       "      <td>0</td>\n",
       "      <td>419531</td>\n",
       "    </tr>\n",
       "    <tr>\n",
       "      <th>1</th>\n",
       "      <td>491405</td>\n",
       "      <td>491405</td>\n",
       "      <td>491405</td>\n",
       "      <td>491405</td>\n",
       "      <td>491405</td>\n",
       "      <td>491405</td>\n",
       "      <td>491405</td>\n",
       "      <td>491405</td>\n",
       "      <td>491405</td>\n",
       "      <td>491405</td>\n",
       "    </tr>\n",
       "  </tbody>\n",
       "</table>\n",
       "</div>"
      ],
      "text/plain": [
       "           status     bed    bath  acre_lot    city   state  zip_code  \\\n",
       "prev_sold                                                               \n",
       "0          419531  419531  419531    419531  419531  419531    419531   \n",
       "1          491405  491405  491405    491405  491405  491405    491405   \n",
       "\n",
       "           house_size  prev_sold_date   price  \n",
       "prev_sold                                      \n",
       "0              419531               0  419531  \n",
       "1              491405          491405  491405  "
      ]
     },
     "execution_count": 97,
     "metadata": {},
     "output_type": "execute_result"
    }
   ],
   "source": [
    "df3.groupby('prev_sold').count()"
   ]
  },
  {
   "cell_type": "code",
   "execution_count": 100,
   "metadata": {},
   "outputs": [],
   "source": [
    "city_price = df3.groupby('city')['price'].mean().reset_index()\n",
    "df4 = df3.merge(city_price, on='city', how='inner')\n"
   ]
  },
  {
   "cell_type": "code",
   "execution_count": 102,
   "metadata": {},
   "outputs": [
    {
     "data": {
      "text/html": [
       "<div>\n",
       "<style scoped>\n",
       "    .dataframe tbody tr th:only-of-type {\n",
       "        vertical-align: middle;\n",
       "    }\n",
       "\n",
       "    .dataframe tbody tr th {\n",
       "        vertical-align: top;\n",
       "    }\n",
       "\n",
       "    .dataframe thead th {\n",
       "        text-align: right;\n",
       "    }\n",
       "</style>\n",
       "<table border=\"1\" class=\"dataframe\">\n",
       "  <thead>\n",
       "    <tr style=\"text-align: right;\">\n",
       "      <th></th>\n",
       "      <th>status</th>\n",
       "      <th>bed</th>\n",
       "      <th>bath</th>\n",
       "      <th>acre_lot</th>\n",
       "      <th>city</th>\n",
       "      <th>state</th>\n",
       "      <th>zip_code</th>\n",
       "      <th>house_size</th>\n",
       "      <th>prev_sold_date</th>\n",
       "      <th>price_x</th>\n",
       "      <th>prev_sold</th>\n",
       "      <th>price_y</th>\n",
       "    </tr>\n",
       "  </thead>\n",
       "  <tbody>\n",
       "    <tr>\n",
       "      <th>254550</th>\n",
       "      <td>for_sale</td>\n",
       "      <td>2.0</td>\n",
       "      <td>1.0</td>\n",
       "      <td>0.00</td>\n",
       "      <td>Bronx</td>\n",
       "      <td>New York</td>\n",
       "      <td>10451.0</td>\n",
       "      <td>870.0</td>\n",
       "      <td>2020-08-14</td>\n",
       "      <td>320000.0</td>\n",
       "      <td>1</td>\n",
       "      <td>9.443670e+05</td>\n",
       "    </tr>\n",
       "    <tr>\n",
       "      <th>842567</th>\n",
       "      <td>for_sale</td>\n",
       "      <td>3.0</td>\n",
       "      <td>1.0</td>\n",
       "      <td>0.13</td>\n",
       "      <td>Oswego</td>\n",
       "      <td>New York</td>\n",
       "      <td>13126.0</td>\n",
       "      <td>1296.0</td>\n",
       "      <td>NaN</td>\n",
       "      <td>64900.0</td>\n",
       "      <td>0</td>\n",
       "      <td>1.452581e+05</td>\n",
       "    </tr>\n",
       "    <tr>\n",
       "      <th>575482</th>\n",
       "      <td>for_sale</td>\n",
       "      <td>3.0</td>\n",
       "      <td>1.0</td>\n",
       "      <td>0.08</td>\n",
       "      <td>Hartford</td>\n",
       "      <td>Connecticut</td>\n",
       "      <td>6106.0</td>\n",
       "      <td>1216.0</td>\n",
       "      <td>2018-02-14</td>\n",
       "      <td>160000.0</td>\n",
       "      <td>1</td>\n",
       "      <td>2.705188e+05</td>\n",
       "    </tr>\n",
       "    <tr>\n",
       "      <th>786860</th>\n",
       "      <td>for_sale</td>\n",
       "      <td>3.0</td>\n",
       "      <td>3.0</td>\n",
       "      <td>10.85</td>\n",
       "      <td>Northfield</td>\n",
       "      <td>Vermont</td>\n",
       "      <td>5663.0</td>\n",
       "      <td>3036.0</td>\n",
       "      <td>NaN</td>\n",
       "      <td>365000.0</td>\n",
       "      <td>0</td>\n",
       "      <td>3.231763e+05</td>\n",
       "    </tr>\n",
       "    <tr>\n",
       "      <th>349866</th>\n",
       "      <td>for_sale</td>\n",
       "      <td>5.0</td>\n",
       "      <td>3.0</td>\n",
       "      <td>0.04</td>\n",
       "      <td>Corona</td>\n",
       "      <td>New York</td>\n",
       "      <td>11368.0</td>\n",
       "      <td>1520.0</td>\n",
       "      <td>1991-08-01</td>\n",
       "      <td>1095000.0</td>\n",
       "      <td>1</td>\n",
       "      <td>1.126689e+06</td>\n",
       "    </tr>\n",
       "    <tr>\n",
       "      <th>58303</th>\n",
       "      <td>for_sale</td>\n",
       "      <td>2.0</td>\n",
       "      <td>2.0</td>\n",
       "      <td>0.00</td>\n",
       "      <td>New York City</td>\n",
       "      <td>New York</td>\n",
       "      <td>10013.0</td>\n",
       "      <td>1500.0</td>\n",
       "      <td>NaN</td>\n",
       "      <td>2495000.0</td>\n",
       "      <td>0</td>\n",
       "      <td>3.106583e+06</td>\n",
       "    </tr>\n",
       "    <tr>\n",
       "      <th>492344</th>\n",
       "      <td>for_sale</td>\n",
       "      <td>6.0</td>\n",
       "      <td>2.0</td>\n",
       "      <td>0.10</td>\n",
       "      <td>Buffalo</td>\n",
       "      <td>New York</td>\n",
       "      <td>14216.0</td>\n",
       "      <td>2520.0</td>\n",
       "      <td>2021-10-29</td>\n",
       "      <td>279900.0</td>\n",
       "      <td>1</td>\n",
       "      <td>1.991993e+05</td>\n",
       "    </tr>\n",
       "    <tr>\n",
       "      <th>362687</th>\n",
       "      <td>for_sale</td>\n",
       "      <td>3.0</td>\n",
       "      <td>2.0</td>\n",
       "      <td>1.18</td>\n",
       "      <td>Newburgh</td>\n",
       "      <td>New York</td>\n",
       "      <td>12550.0</td>\n",
       "      <td>1245.0</td>\n",
       "      <td>2000-01-03</td>\n",
       "      <td>225000.0</td>\n",
       "      <td>1</td>\n",
       "      <td>4.208586e+05</td>\n",
       "    </tr>\n",
       "    <tr>\n",
       "      <th>829247</th>\n",
       "      <td>for_sale</td>\n",
       "      <td>3.0</td>\n",
       "      <td>2.0</td>\n",
       "      <td>1.03</td>\n",
       "      <td>Newbury</td>\n",
       "      <td>Vermont</td>\n",
       "      <td>5085.0</td>\n",
       "      <td>1568.0</td>\n",
       "      <td>NaN</td>\n",
       "      <td>265000.0</td>\n",
       "      <td>0</td>\n",
       "      <td>7.669643e+05</td>\n",
       "    </tr>\n",
       "    <tr>\n",
       "      <th>566804</th>\n",
       "      <td>for_sale</td>\n",
       "      <td>5.0</td>\n",
       "      <td>5.0</td>\n",
       "      <td>1.16</td>\n",
       "      <td>Smithtown</td>\n",
       "      <td>New York</td>\n",
       "      <td>11787.0</td>\n",
       "      <td>4634.0</td>\n",
       "      <td>1996-03-27</td>\n",
       "      <td>1499999.0</td>\n",
       "      <td>1</td>\n",
       "      <td>8.045249e+05</td>\n",
       "    </tr>\n",
       "  </tbody>\n",
       "</table>\n",
       "</div>"
      ],
      "text/plain": [
       "          status  bed  bath  acre_lot           city        state  zip_code  \\\n",
       "254550  for_sale  2.0   1.0      0.00          Bronx     New York   10451.0   \n",
       "842567  for_sale  3.0   1.0      0.13         Oswego     New York   13126.0   \n",
       "575482  for_sale  3.0   1.0      0.08       Hartford  Connecticut    6106.0   \n",
       "786860  for_sale  3.0   3.0     10.85     Northfield      Vermont    5663.0   \n",
       "349866  for_sale  5.0   3.0      0.04         Corona     New York   11368.0   \n",
       "58303   for_sale  2.0   2.0      0.00  New York City     New York   10013.0   \n",
       "492344  for_sale  6.0   2.0      0.10        Buffalo     New York   14216.0   \n",
       "362687  for_sale  3.0   2.0      1.18       Newburgh     New York   12550.0   \n",
       "829247  for_sale  3.0   2.0      1.03        Newbury      Vermont    5085.0   \n",
       "566804  for_sale  5.0   5.0      1.16      Smithtown     New York   11787.0   \n",
       "\n",
       "        house_size prev_sold_date    price_x  prev_sold       price_y  \n",
       "254550       870.0     2020-08-14   320000.0          1  9.443670e+05  \n",
       "842567      1296.0            NaN    64900.0          0  1.452581e+05  \n",
       "575482      1216.0     2018-02-14   160000.0          1  2.705188e+05  \n",
       "786860      3036.0            NaN   365000.0          0  3.231763e+05  \n",
       "349866      1520.0     1991-08-01  1095000.0          1  1.126689e+06  \n",
       "58303       1500.0            NaN  2495000.0          0  3.106583e+06  \n",
       "492344      2520.0     2021-10-29   279900.0          1  1.991993e+05  \n",
       "362687      1245.0     2000-01-03   225000.0          1  4.208586e+05  \n",
       "829247      1568.0            NaN   265000.0          0  7.669643e+05  \n",
       "566804      4634.0     1996-03-27  1499999.0          1  8.045249e+05  "
      ]
     },
     "execution_count": 102,
     "metadata": {},
     "output_type": "execute_result"
    }
   ],
   "source": [
    "df4.sample(10)"
   ]
  },
  {
   "cell_type": "code",
   "execution_count": null,
   "metadata": {},
   "outputs": [],
   "source": [
    "convert to min-max scaler"
   ]
  }
 ],
 "metadata": {
  "kernelspec": {
   "display_name": "base",
   "language": "python",
   "name": "python3"
  },
  "language_info": {
   "codemirror_mode": {
    "name": "ipython",
    "version": 3
   },
   "file_extension": ".py",
   "mimetype": "text/x-python",
   "name": "python",
   "nbconvert_exporter": "python",
   "pygments_lexer": "ipython3",
   "version": "3.11.5"
  }
 },
 "nbformat": 4,
 "nbformat_minor": 2
}
