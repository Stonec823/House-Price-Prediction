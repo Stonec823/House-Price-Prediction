{
 "cells": [
  {
   "cell_type": "markdown",
   "metadata": {},
   "source": [
    "This notebook will be used to explore the dataset and determine cleaning and transformations needed before modeling. The final data cleaning script will be added to the source folder"
   ]
  },
  {
   "cell_type": "code",
   "execution_count": 122,
   "metadata": {},
   "outputs": [
    {
     "data": {
      "text/html": [
       "<div>\n",
       "<style scoped>\n",
       "    .dataframe tbody tr th:only-of-type {\n",
       "        vertical-align: middle;\n",
       "    }\n",
       "\n",
       "    .dataframe tbody tr th {\n",
       "        vertical-align: top;\n",
       "    }\n",
       "\n",
       "    .dataframe thead th {\n",
       "        text-align: right;\n",
       "    }\n",
       "</style>\n",
       "<table border=\"1\" class=\"dataframe\">\n",
       "  <thead>\n",
       "    <tr style=\"text-align: right;\">\n",
       "      <th></th>\n",
       "      <th>status</th>\n",
       "      <th>bed</th>\n",
       "      <th>bath</th>\n",
       "      <th>acre_lot</th>\n",
       "      <th>city</th>\n",
       "      <th>state</th>\n",
       "      <th>zip_code</th>\n",
       "      <th>house_size</th>\n",
       "      <th>prev_sold_date</th>\n",
       "      <th>price</th>\n",
       "    </tr>\n",
       "  </thead>\n",
       "  <tbody>\n",
       "    <tr>\n",
       "      <th>0</th>\n",
       "      <td>for_sale</td>\n",
       "      <td>3.0</td>\n",
       "      <td>2.0</td>\n",
       "      <td>0.12</td>\n",
       "      <td>Adjuntas</td>\n",
       "      <td>Puerto Rico</td>\n",
       "      <td>601.0</td>\n",
       "      <td>920.0</td>\n",
       "      <td>NaN</td>\n",
       "      <td>105000.0</td>\n",
       "    </tr>\n",
       "    <tr>\n",
       "      <th>1</th>\n",
       "      <td>for_sale</td>\n",
       "      <td>4.0</td>\n",
       "      <td>2.0</td>\n",
       "      <td>0.08</td>\n",
       "      <td>Adjuntas</td>\n",
       "      <td>Puerto Rico</td>\n",
       "      <td>601.0</td>\n",
       "      <td>1527.0</td>\n",
       "      <td>NaN</td>\n",
       "      <td>80000.0</td>\n",
       "    </tr>\n",
       "    <tr>\n",
       "      <th>2</th>\n",
       "      <td>for_sale</td>\n",
       "      <td>2.0</td>\n",
       "      <td>1.0</td>\n",
       "      <td>0.15</td>\n",
       "      <td>Juana Diaz</td>\n",
       "      <td>Puerto Rico</td>\n",
       "      <td>795.0</td>\n",
       "      <td>748.0</td>\n",
       "      <td>NaN</td>\n",
       "      <td>67000.0</td>\n",
       "    </tr>\n",
       "    <tr>\n",
       "      <th>3</th>\n",
       "      <td>for_sale</td>\n",
       "      <td>4.0</td>\n",
       "      <td>2.0</td>\n",
       "      <td>0.10</td>\n",
       "      <td>Ponce</td>\n",
       "      <td>Puerto Rico</td>\n",
       "      <td>731.0</td>\n",
       "      <td>1800.0</td>\n",
       "      <td>NaN</td>\n",
       "      <td>145000.0</td>\n",
       "    </tr>\n",
       "    <tr>\n",
       "      <th>4</th>\n",
       "      <td>for_sale</td>\n",
       "      <td>6.0</td>\n",
       "      <td>2.0</td>\n",
       "      <td>0.05</td>\n",
       "      <td>Mayaguez</td>\n",
       "      <td>Puerto Rico</td>\n",
       "      <td>680.0</td>\n",
       "      <td>NaN</td>\n",
       "      <td>NaN</td>\n",
       "      <td>65000.0</td>\n",
       "    </tr>\n",
       "  </tbody>\n",
       "</table>\n",
       "</div>"
      ],
      "text/plain": [
       "     status  bed  bath  acre_lot        city        state  zip_code  \\\n",
       "0  for_sale  3.0   2.0      0.12    Adjuntas  Puerto Rico     601.0   \n",
       "1  for_sale  4.0   2.0      0.08    Adjuntas  Puerto Rico     601.0   \n",
       "2  for_sale  2.0   1.0      0.15  Juana Diaz  Puerto Rico     795.0   \n",
       "3  for_sale  4.0   2.0      0.10       Ponce  Puerto Rico     731.0   \n",
       "4  for_sale  6.0   2.0      0.05    Mayaguez  Puerto Rico     680.0   \n",
       "\n",
       "   house_size prev_sold_date     price  \n",
       "0       920.0            NaN  105000.0  \n",
       "1      1527.0            NaN   80000.0  \n",
       "2       748.0            NaN   67000.0  \n",
       "3      1800.0            NaN  145000.0  \n",
       "4         NaN            NaN   65000.0  "
      ]
     },
     "execution_count": 122,
     "metadata": {},
     "output_type": "execute_result"
    }
   ],
   "source": [
    "import pandas as pd\n",
    "import numpy as np\n",
    "from matplotlib import pyplot as plt\n",
    "import seaborn as sns\n",
    "\n",
    "df = pd.read_csv('/Users/cstone/Repositories/House-Price-Prediction_Multiple-Regression/data/raw/realtor-data.zip.csv')\n",
    "\n",
    "df.head()"
   ]
  },
  {
   "cell_type": "code",
   "execution_count": 123,
   "metadata": {},
   "outputs": [
    {
     "data": {
      "text/plain": [
       "(1401066, 10)"
      ]
     },
     "execution_count": 123,
     "metadata": {},
     "output_type": "execute_result"
    }
   ],
   "source": [
    "df.shape"
   ]
  },
  {
   "cell_type": "code",
   "execution_count": 124,
   "metadata": {},
   "outputs": [
    {
     "data": {
      "text/plain": [
       "status                 0\n",
       "bed               216528\n",
       "bath              194213\n",
       "acre_lot          357467\n",
       "city                 191\n",
       "state                  0\n",
       "zip_code             479\n",
       "house_size        450112\n",
       "prev_sold_date    686293\n",
       "price                108\n",
       "dtype: int64"
      ]
     },
     "execution_count": 124,
     "metadata": {},
     "output_type": "execute_result"
    }
   ],
   "source": [
    "df.isna().sum()"
   ]
  },
  {
   "cell_type": "code",
   "execution_count": 125,
   "metadata": {},
   "outputs": [
    {
     "data": {
      "text/html": [
       "<div>\n",
       "<style scoped>\n",
       "    .dataframe tbody tr th:only-of-type {\n",
       "        vertical-align: middle;\n",
       "    }\n",
       "\n",
       "    .dataframe tbody tr th {\n",
       "        vertical-align: top;\n",
       "    }\n",
       "\n",
       "    .dataframe thead th {\n",
       "        text-align: right;\n",
       "    }\n",
       "</style>\n",
       "<table border=\"1\" class=\"dataframe\">\n",
       "  <thead>\n",
       "    <tr style=\"text-align: right;\">\n",
       "      <th></th>\n",
       "      <th>status</th>\n",
       "      <th>bed</th>\n",
       "      <th>bath</th>\n",
       "      <th>acre_lot</th>\n",
       "      <th>city</th>\n",
       "      <th>state</th>\n",
       "      <th>zip_code</th>\n",
       "      <th>house_size</th>\n",
       "      <th>prev_sold_date</th>\n",
       "      <th>price</th>\n",
       "    </tr>\n",
       "  </thead>\n",
       "  <tbody>\n",
       "    <tr>\n",
       "      <th>42</th>\n",
       "      <td>for_sale</td>\n",
       "      <td>NaN</td>\n",
       "      <td>NaN</td>\n",
       "      <td>0.99</td>\n",
       "      <td>Moca</td>\n",
       "      <td>Puerto Rico</td>\n",
       "      <td>676.0</td>\n",
       "      <td>43082.0</td>\n",
       "      <td>NaN</td>\n",
       "      <td>400000.0</td>\n",
       "    </tr>\n",
       "    <tr>\n",
       "      <th>43</th>\n",
       "      <td>for_sale</td>\n",
       "      <td>NaN</td>\n",
       "      <td>NaN</td>\n",
       "      <td>18.45</td>\n",
       "      <td>Hatillo</td>\n",
       "      <td>Puerto Rico</td>\n",
       "      <td>659.0</td>\n",
       "      <td>NaN</td>\n",
       "      <td>NaN</td>\n",
       "      <td>380000.0</td>\n",
       "    </tr>\n",
       "    <tr>\n",
       "      <th>59</th>\n",
       "      <td>for_sale</td>\n",
       "      <td>NaN</td>\n",
       "      <td>NaN</td>\n",
       "      <td>0.88</td>\n",
       "      <td>Aguada</td>\n",
       "      <td>Puerto Rico</td>\n",
       "      <td>602.0</td>\n",
       "      <td>NaN</td>\n",
       "      <td>NaN</td>\n",
       "      <td>35000.0</td>\n",
       "    </tr>\n",
       "    <tr>\n",
       "      <th>60</th>\n",
       "      <td>for_sale</td>\n",
       "      <td>NaN</td>\n",
       "      <td>NaN</td>\n",
       "      <td>0.21</td>\n",
       "      <td>Aguada</td>\n",
       "      <td>Puerto Rico</td>\n",
       "      <td>602.0</td>\n",
       "      <td>NaN</td>\n",
       "      <td>NaN</td>\n",
       "      <td>58000.0</td>\n",
       "    </tr>\n",
       "    <tr>\n",
       "      <th>61</th>\n",
       "      <td>for_sale</td>\n",
       "      <td>NaN</td>\n",
       "      <td>NaN</td>\n",
       "      <td>21.08</td>\n",
       "      <td>Aguada</td>\n",
       "      <td>Puerto Rico</td>\n",
       "      <td>602.0</td>\n",
       "      <td>NaN</td>\n",
       "      <td>NaN</td>\n",
       "      <td>85000.0</td>\n",
       "    </tr>\n",
       "    <tr>\n",
       "      <th>...</th>\n",
       "      <td>...</td>\n",
       "      <td>...</td>\n",
       "      <td>...</td>\n",
       "      <td>...</td>\n",
       "      <td>...</td>\n",
       "      <td>...</td>\n",
       "      <td>...</td>\n",
       "      <td>...</td>\n",
       "      <td>...</td>\n",
       "      <td>...</td>\n",
       "    </tr>\n",
       "    <tr>\n",
       "      <th>1401046</th>\n",
       "      <td>for_sale</td>\n",
       "      <td>NaN</td>\n",
       "      <td>NaN</td>\n",
       "      <td>35.60</td>\n",
       "      <td>Ny</td>\n",
       "      <td>New York</td>\n",
       "      <td>14062.0</td>\n",
       "      <td>1000.0</td>\n",
       "      <td>NaN</td>\n",
       "      <td>124900.0</td>\n",
       "    </tr>\n",
       "    <tr>\n",
       "      <th>1401051</th>\n",
       "      <td>for_sale</td>\n",
       "      <td>NaN</td>\n",
       "      <td>NaN</td>\n",
       "      <td>32.20</td>\n",
       "      <td>Forestville</td>\n",
       "      <td>New York</td>\n",
       "      <td>14062.0</td>\n",
       "      <td>NaN</td>\n",
       "      <td>NaN</td>\n",
       "      <td>164900.0</td>\n",
       "    </tr>\n",
       "    <tr>\n",
       "      <th>1401052</th>\n",
       "      <td>for_sale</td>\n",
       "      <td>NaN</td>\n",
       "      <td>NaN</td>\n",
       "      <td>33.00</td>\n",
       "      <td>Forestville</td>\n",
       "      <td>New York</td>\n",
       "      <td>14062.0</td>\n",
       "      <td>NaN</td>\n",
       "      <td>NaN</td>\n",
       "      <td>94900.0</td>\n",
       "    </tr>\n",
       "    <tr>\n",
       "      <th>1401053</th>\n",
       "      <td>for_sale</td>\n",
       "      <td>NaN</td>\n",
       "      <td>NaN</td>\n",
       "      <td>29.60</td>\n",
       "      <td>Forestville</td>\n",
       "      <td>New York</td>\n",
       "      <td>14062.0</td>\n",
       "      <td>NaN</td>\n",
       "      <td>NaN</td>\n",
       "      <td>99900.0</td>\n",
       "    </tr>\n",
       "    <tr>\n",
       "      <th>1401061</th>\n",
       "      <td>for_sale</td>\n",
       "      <td>NaN</td>\n",
       "      <td>NaN</td>\n",
       "      <td>155.00</td>\n",
       "      <td>Perrysburg</td>\n",
       "      <td>New York</td>\n",
       "      <td>14129.0</td>\n",
       "      <td>NaN</td>\n",
       "      <td>NaN</td>\n",
       "      <td>325000.0</td>\n",
       "    </tr>\n",
       "  </tbody>\n",
       "</table>\n",
       "<p>194213 rows × 10 columns</p>\n",
       "</div>"
      ],
      "text/plain": [
       "           status  bed  bath  acre_lot         city        state  zip_code  \\\n",
       "42       for_sale  NaN   NaN      0.99         Moca  Puerto Rico     676.0   \n",
       "43       for_sale  NaN   NaN     18.45      Hatillo  Puerto Rico     659.0   \n",
       "59       for_sale  NaN   NaN      0.88       Aguada  Puerto Rico     602.0   \n",
       "60       for_sale  NaN   NaN      0.21       Aguada  Puerto Rico     602.0   \n",
       "61       for_sale  NaN   NaN     21.08       Aguada  Puerto Rico     602.0   \n",
       "...           ...  ...   ...       ...          ...          ...       ...   \n",
       "1401046  for_sale  NaN   NaN     35.60           Ny     New York   14062.0   \n",
       "1401051  for_sale  NaN   NaN     32.20  Forestville     New York   14062.0   \n",
       "1401052  for_sale  NaN   NaN     33.00  Forestville     New York   14062.0   \n",
       "1401053  for_sale  NaN   NaN     29.60  Forestville     New York   14062.0   \n",
       "1401061  for_sale  NaN   NaN    155.00   Perrysburg     New York   14129.0   \n",
       "\n",
       "         house_size prev_sold_date     price  \n",
       "42          43082.0            NaN  400000.0  \n",
       "43              NaN            NaN  380000.0  \n",
       "59              NaN            NaN   35000.0  \n",
       "60              NaN            NaN   58000.0  \n",
       "61              NaN            NaN   85000.0  \n",
       "...             ...            ...       ...  \n",
       "1401046      1000.0            NaN  124900.0  \n",
       "1401051         NaN            NaN  164900.0  \n",
       "1401052         NaN            NaN   94900.0  \n",
       "1401053         NaN            NaN   99900.0  \n",
       "1401061         NaN            NaN  325000.0  \n",
       "\n",
       "[194213 rows x 10 columns]"
      ]
     },
     "execution_count": 125,
     "metadata": {},
     "output_type": "execute_result"
    }
   ],
   "source": [
    "df.loc[df['bath'].isnull()]"
   ]
  },
  {
   "cell_type": "markdown",
   "metadata": {},
   "source": [
    "There's lots of missing values for house_size, bed and bath. Will some may be valid (i.e. studio apartments), it appears most are just incomplete. This is consistent with viewing homes on redfin. Sometimes this info is just missing from the listing. Given these will likely be the key factors in determining price, I'll go ahead and exclude the missing rows from the initial dataset"
   ]
  },
  {
   "cell_type": "code",
   "execution_count": 126,
   "metadata": {},
   "outputs": [],
   "source": [
    "df2  = df.dropna(subset=['bed', 'bath', 'house_size'])"
   ]
  },
  {
   "cell_type": "code",
   "execution_count": 127,
   "metadata": {},
   "outputs": [
    {
     "data": {
      "text/plain": [
       "status                 0\n",
       "bed                    0\n",
       "bath                   0\n",
       "acre_lot          230491\n",
       "city                  88\n",
       "state                  0\n",
       "zip_code             115\n",
       "house_size             0\n",
       "prev_sold_date    419713\n",
       "price                  0\n",
       "dtype: int64"
      ]
     },
     "execution_count": 127,
     "metadata": {},
     "output_type": "execute_result"
    }
   ],
   "source": [
    "\n",
    "df2.isna().sum()"
   ]
  },
  {
   "cell_type": "markdown",
   "metadata": {},
   "source": [
    "This still leaves us with half the original data (900k records). There's still a large missing amount of acre lot values. I would hypothesize that most of these are condo/apartments type properties. Since these records have all other information, I feel safe imputing the missing values with 0"
   ]
  },
  {
   "cell_type": "code",
   "execution_count": 128,
   "metadata": {},
   "outputs": [
    {
     "name": "stderr",
     "output_type": "stream",
     "text": [
      "/var/folders/x_/nj1rjg193d57yw4b__nvy9j40000gn/T/ipykernel_74263/3081369541.py:1: SettingWithCopyWarning: \n",
      "A value is trying to be set on a copy of a slice from a DataFrame\n",
      "\n",
      "See the caveats in the documentation: https://pandas.pydata.org/pandas-docs/stable/user_guide/indexing.html#returning-a-view-versus-a-copy\n",
      "  df2['acre_lot'].fillna(0, inplace=True)\n"
     ]
    }
   ],
   "source": [
    "df2['acre_lot'].fillna(0, inplace=True)"
   ]
  },
  {
   "cell_type": "markdown",
   "metadata": {},
   "source": [
    "Next I'll look at some boxplots to examine any outliers"
   ]
  },
  {
   "cell_type": "code",
   "execution_count": 129,
   "metadata": {},
   "outputs": [
    {
     "data": {
      "image/png": "[encoded data removed]",
      "text/plain": [
       "<Figure size 640x480 with 1 Axes>"
      ]
     },
     "metadata": {},
     "output_type": "display_data"
    },
    {
     "data": {
      "image/png": "[encoded data removed]",
      "text/plain": [
       "<Figure size 640x480 with 1 Axes>"
      ]
     },
     "metadata": {},
     "output_type": "display_data"
    },
    {
     "data": {
      "image/png": "[encoded data removed]",
      "text/plain": [
       "<Figure size 640x480 with 1 Axes>"
      ]
     },
     "metadata": {},
     "output_type": "display_data"
    },
    {
     "data": {
      "image/png": "[encoded data removed]",
      "text/plain": [
       "<Figure size 640x480 with 1 Axes>"
      ]
     },
     "metadata": {},
     "output_type": "display_data"
    },
    {
     "data": {
      "image/png": "[encoded data removed]",
      "text/plain": [
       "<Figure size 640x480 with 1 Axes>"
      ]
     },
     "metadata": {},
     "output_type": "display_data"
    }
   ],
   "source": [
    "cols = ['bed', 'bath', 'acre_lot', 'house_size', 'price']\n",
    "\n",
    "for i in cols:\n",
    "    plt.figure()\n",
    "    plt.boxplot(x=i, data=df2)\n",
    "    plt.title(i)\n",
    "\n",
    "#plt.boxplot(x='house_size', data=df2)"
   ]
  },
  {
   "cell_type": "markdown",
   "metadata": {},
   "source": [
    "Most of these outliers will be important to keep as very large houses are still valid listings. However there's a few egregious outliers in price, bath, and house size that should be removed. "
   ]
  },
  {
   "cell_type": "code",
   "execution_count": 163,
   "metadata": {},
   "outputs": [],
   "source": [
    "\n",
    "outlier_cols = ['bed', 'bath', 'price', 'acre_lot', 'house_size']\n",
    "\n",
    "Q1 = df2[outlier_cols].quantile(0.25)\n",
    "Q3 = df2[outlier_cols].quantile(0.75)\n",
    "IQR = Q3 - Q1\n",
    "\n",
    "df3 = df2[~((df2[outlier_cols] < (Q1 - 1.5 * IQR)) |(df2[outlier_cols] > (Q3 + 1.5 * IQR))).any(axis=1)]"
   ]
  },
  {
   "cell_type": "code",
   "execution_count": 164,
   "metadata": {},
   "outputs": [
    {
     "data": {
      "text/plain": [
       "(671718, 10)"
      ]
     },
     "execution_count": 164,
     "metadata": {},
     "output_type": "execute_result"
    }
   ],
   "source": [
    "df3.shape"
   ]
  },
  {
   "cell_type": "markdown",
   "metadata": {},
   "source": [
    "With so many missing values for last sold date, it may be best to convert these to a binary variable. Either the house has sold before or it hasnt"
   ]
  },
  {
   "cell_type": "code",
   "execution_count": 165,
   "metadata": {},
   "outputs": [
    {
     "data": {
      "text/plain": [
       "status                 0\n",
       "bed                    0\n",
       "bath                   0\n",
       "acre_lot               0\n",
       "city                   0\n",
       "state                  0\n",
       "zip_code               0\n",
       "house_size             0\n",
       "prev_sold_date    292786\n",
       "price                  0\n",
       "dtype: int64"
      ]
     },
     "execution_count": 165,
     "metadata": {},
     "output_type": "execute_result"
    }
   ],
   "source": [
    "\n",
    "df3  = df3.dropna(subset=['city', 'zip_code'])\n",
    "df3.isna().sum()"
   ]
  },
  {
   "cell_type": "code",
   "execution_count": 166,
   "metadata": {},
   "outputs": [],
   "source": [
    "df3['prev_sold'] = np.where(df3['prev_sold_date'] > '1800-01-01', 1, 0)\n"
   ]
  },
  {
   "cell_type": "markdown",
   "metadata": {},
   "source": [
    "Using the avg price per zip code to account for varying real estate values in certain markets. "
   ]
  },
  {
   "cell_type": "code",
   "execution_count": 167,
   "metadata": {},
   "outputs": [],
   "source": [
    "zip_price = df3.groupby('zip_code')['price'].mean().reset_index()\n",
    "df4 = df3.merge(zip_price, on='zip_code', how='inner')\n",
    "df4 = df4.rename(columns={'price_y': 'zip_price'})\n"
   ]
  },
  {
   "cell_type": "code",
   "execution_count": 168,
   "metadata": {},
   "outputs": [
    {
     "data": {
      "text/html": [
       "<div>\n",
       "<style scoped>\n",
       "    .dataframe tbody tr th:only-of-type {\n",
       "        vertical-align: middle;\n",
       "    }\n",
       "\n",
       "    .dataframe tbody tr th {\n",
       "        vertical-align: top;\n",
       "    }\n",
       "\n",
       "    .dataframe thead th {\n",
       "        text-align: right;\n",
       "    }\n",
       "</style>\n",
       "<table border=\"1\" class=\"dataframe\">\n",
       "  <thead>\n",
       "    <tr style=\"text-align: right;\">\n",
       "      <th></th>\n",
       "      <th>status</th>\n",
       "      <th>bed</th>\n",
       "      <th>bath</th>\n",
       "      <th>acre_lot</th>\n",
       "      <th>city</th>\n",
       "      <th>state</th>\n",
       "      <th>zip_code</th>\n",
       "      <th>house_size</th>\n",
       "      <th>prev_sold_date</th>\n",
       "      <th>price_x</th>\n",
       "      <th>prev_sold</th>\n",
       "      <th>zip_price</th>\n",
       "    </tr>\n",
       "  </thead>\n",
       "  <tbody>\n",
       "    <tr>\n",
       "      <th>59241</th>\n",
       "      <td>for_sale</td>\n",
       "      <td>3.0</td>\n",
       "      <td>2.0</td>\n",
       "      <td>0.21</td>\n",
       "      <td>Worcester</td>\n",
       "      <td>Massachusetts</td>\n",
       "      <td>1604.0</td>\n",
       "      <td>1388.0</td>\n",
       "      <td>NaN</td>\n",
       "      <td>209900.0</td>\n",
       "      <td>0</td>\n",
       "      <td>372992.528548</td>\n",
       "    </tr>\n",
       "    <tr>\n",
       "      <th>37464</th>\n",
       "      <td>for_sale</td>\n",
       "      <td>3.0</td>\n",
       "      <td>1.0</td>\n",
       "      <td>0.21</td>\n",
       "      <td>Adams</td>\n",
       "      <td>Massachusetts</td>\n",
       "      <td>1220.0</td>\n",
       "      <td>1632.0</td>\n",
       "      <td>2008-05-07</td>\n",
       "      <td>170000.0</td>\n",
       "      <td>1</td>\n",
       "      <td>193612.774451</td>\n",
       "    </tr>\n",
       "    <tr>\n",
       "      <th>326320</th>\n",
       "      <td>for_sale</td>\n",
       "      <td>1.0</td>\n",
       "      <td>1.0</td>\n",
       "      <td>0.00</td>\n",
       "      <td>Bronx</td>\n",
       "      <td>New York</td>\n",
       "      <td>10462.0</td>\n",
       "      <td>636.0</td>\n",
       "      <td>2016-07-18</td>\n",
       "      <td>210000.0</td>\n",
       "      <td>1</td>\n",
       "      <td>437318.402528</td>\n",
       "    </tr>\n",
       "    <tr>\n",
       "      <th>493394</th>\n",
       "      <td>for_sale</td>\n",
       "      <td>2.0</td>\n",
       "      <td>3.0</td>\n",
       "      <td>0.11</td>\n",
       "      <td>Langhorne</td>\n",
       "      <td>Pennsylvania</td>\n",
       "      <td>19047.0</td>\n",
       "      <td>1639.0</td>\n",
       "      <td>2001-09-05</td>\n",
       "      <td>450000.0</td>\n",
       "      <td>1</td>\n",
       "      <td>440413.636364</td>\n",
       "    </tr>\n",
       "    <tr>\n",
       "      <th>53945</th>\n",
       "      <td>for_sale</td>\n",
       "      <td>3.0</td>\n",
       "      <td>1.0</td>\n",
       "      <td>0.47</td>\n",
       "      <td>East Hartford</td>\n",
       "      <td>Connecticut</td>\n",
       "      <td>6118.0</td>\n",
       "      <td>1040.0</td>\n",
       "      <td>2019-02-11</td>\n",
       "      <td>195000.0</td>\n",
       "      <td>1</td>\n",
       "      <td>221354.539813</td>\n",
       "    </tr>\n",
       "    <tr>\n",
       "      <th>469244</th>\n",
       "      <td>for_sale</td>\n",
       "      <td>4.0</td>\n",
       "      <td>3.0</td>\n",
       "      <td>1.32</td>\n",
       "      <td>Dingmans Ferry</td>\n",
       "      <td>Pennsylvania</td>\n",
       "      <td>18328.0</td>\n",
       "      <td>3520.0</td>\n",
       "      <td>2021-03-09</td>\n",
       "      <td>415000.0</td>\n",
       "      <td>1</td>\n",
       "      <td>252778.217391</td>\n",
       "    </tr>\n",
       "    <tr>\n",
       "      <th>492193</th>\n",
       "      <td>for_sale</td>\n",
       "      <td>3.0</td>\n",
       "      <td>3.0</td>\n",
       "      <td>0.00</td>\n",
       "      <td>East Windsor</td>\n",
       "      <td>New Jersey</td>\n",
       "      <td>8520.0</td>\n",
       "      <td>1663.0</td>\n",
       "      <td>NaN</td>\n",
       "      <td>369000.0</td>\n",
       "      <td>0</td>\n",
       "      <td>384295.996528</td>\n",
       "    </tr>\n",
       "    <tr>\n",
       "      <th>508333</th>\n",
       "      <td>for_sale</td>\n",
       "      <td>3.0</td>\n",
       "      <td>1.0</td>\n",
       "      <td>0.02</td>\n",
       "      <td>Atlantic City</td>\n",
       "      <td>New Jersey</td>\n",
       "      <td>8401.0</td>\n",
       "      <td>1020.0</td>\n",
       "      <td>2016-08-22</td>\n",
       "      <td>99500.0</td>\n",
       "      <td>1</td>\n",
       "      <td>223261.356522</td>\n",
       "    </tr>\n",
       "    <tr>\n",
       "      <th>604328</th>\n",
       "      <td>for_sale</td>\n",
       "      <td>2.0</td>\n",
       "      <td>1.0</td>\n",
       "      <td>0.30</td>\n",
       "      <td>Kortright</td>\n",
       "      <td>New York</td>\n",
       "      <td>13750.0</td>\n",
       "      <td>1080.0</td>\n",
       "      <td>NaN</td>\n",
       "      <td>105000.0</td>\n",
       "      <td>0</td>\n",
       "      <td>105000.000000</td>\n",
       "    </tr>\n",
       "    <tr>\n",
       "      <th>495365</th>\n",
       "      <td>for_sale</td>\n",
       "      <td>4.0</td>\n",
       "      <td>3.0</td>\n",
       "      <td>0.81</td>\n",
       "      <td>Plainsboro</td>\n",
       "      <td>New Jersey</td>\n",
       "      <td>8512.0</td>\n",
       "      <td>2532.0</td>\n",
       "      <td>1992-06-18</td>\n",
       "      <td>589900.0</td>\n",
       "      <td>1</td>\n",
       "      <td>593925.668675</td>\n",
       "    </tr>\n",
       "  </tbody>\n",
       "</table>\n",
       "</div>"
      ],
      "text/plain": [
       "          status  bed  bath  acre_lot            city          state  \\\n",
       "59241   for_sale  3.0   2.0      0.21       Worcester  Massachusetts   \n",
       "37464   for_sale  3.0   1.0      0.21           Adams  Massachusetts   \n",
       "326320  for_sale  1.0   1.0      0.00           Bronx       New York   \n",
       "493394  for_sale  2.0   3.0      0.11       Langhorne   Pennsylvania   \n",
       "53945   for_sale  3.0   1.0      0.47   East Hartford    Connecticut   \n",
       "469244  for_sale  4.0   3.0      1.32  Dingmans Ferry   Pennsylvania   \n",
       "492193  for_sale  3.0   3.0      0.00    East Windsor     New Jersey   \n",
       "508333  for_sale  3.0   1.0      0.02   Atlantic City     New Jersey   \n",
       "604328  for_sale  2.0   1.0      0.30       Kortright       New York   \n",
       "495365  for_sale  4.0   3.0      0.81      Plainsboro     New Jersey   \n",
       "\n",
       "        zip_code  house_size prev_sold_date   price_x  prev_sold  \\\n",
       "59241     1604.0      1388.0            NaN  209900.0          0   \n",
       "37464     1220.0      1632.0     2008-05-07  170000.0          1   \n",
       "326320   10462.0       636.0     2016-07-18  210000.0          1   \n",
       "493394   19047.0      1639.0     2001-09-05  450000.0          1   \n",
       "53945     6118.0      1040.0     2019-02-11  195000.0          1   \n",
       "469244   18328.0      3520.0     2021-03-09  415000.0          1   \n",
       "492193    8520.0      1663.0            NaN  369000.0          0   \n",
       "508333    8401.0      1020.0     2016-08-22   99500.0          1   \n",
       "604328   13750.0      1080.0            NaN  105000.0          0   \n",
       "495365    8512.0      2532.0     1992-06-18  589900.0          1   \n",
       "\n",
       "            zip_price  \n",
       "59241   372992.528548  \n",
       "37464   193612.774451  \n",
       "326320  437318.402528  \n",
       "493394  440413.636364  \n",
       "53945   221354.539813  \n",
       "469244  252778.217391  \n",
       "492193  384295.996528  \n",
       "508333  223261.356522  \n",
       "604328  105000.000000  \n",
       "495365  593925.668675  "
      ]
     },
     "execution_count": 168,
     "metadata": {},
     "output_type": "execute_result"
    }
   ],
   "source": [
    "df4.sample(10)"
   ]
  },
  {
   "cell_type": "markdown",
   "metadata": {},
   "source": [
    "Dropping the columns no longer needed"
   ]
  },
  {
   "cell_type": "code",
   "execution_count": 169,
   "metadata": {},
   "outputs": [],
   "source": [
    "df4 = df4.drop(['city', 'state', 'zip_code', 'prev_sold_date', 'status'], axis=1)"
   ]
  },
  {
   "cell_type": "code",
   "execution_count": 170,
   "metadata": {},
   "outputs": [
    {
     "data": {
      "text/html": [
       "<div>\n",
       "<style scoped>\n",
       "    .dataframe tbody tr th:only-of-type {\n",
       "        vertical-align: middle;\n",
       "    }\n",
       "\n",
       "    .dataframe tbody tr th {\n",
       "        vertical-align: top;\n",
       "    }\n",
       "\n",
       "    .dataframe thead th {\n",
       "        text-align: right;\n",
       "    }\n",
       "</style>\n",
       "<table border=\"1\" class=\"dataframe\">\n",
       "  <thead>\n",
       "    <tr style=\"text-align: right;\">\n",
       "      <th></th>\n",
       "      <th>bed</th>\n",
       "      <th>bath</th>\n",
       "      <th>acre_lot</th>\n",
       "      <th>house_size</th>\n",
       "      <th>price_x</th>\n",
       "      <th>prev_sold</th>\n",
       "      <th>zip_price</th>\n",
       "    </tr>\n",
       "  </thead>\n",
       "  <tbody>\n",
       "    <tr>\n",
       "      <th>460525</th>\n",
       "      <td>4.0</td>\n",
       "      <td>3.0</td>\n",
       "      <td>0.33</td>\n",
       "      <td>2375.0</td>\n",
       "      <td>749000.0</td>\n",
       "      <td>1</td>\n",
       "      <td>5.220051e+05</td>\n",
       "    </tr>\n",
       "    <tr>\n",
       "      <th>71474</th>\n",
       "      <td>3.0</td>\n",
       "      <td>3.0</td>\n",
       "      <td>0.33</td>\n",
       "      <td>1620.0</td>\n",
       "      <td>169000.0</td>\n",
       "      <td>0</td>\n",
       "      <td>1.912673e+05</td>\n",
       "    </tr>\n",
       "    <tr>\n",
       "      <th>305056</th>\n",
       "      <td>1.0</td>\n",
       "      <td>1.0</td>\n",
       "      <td>0.00</td>\n",
       "      <td>888.0</td>\n",
       "      <td>375000.0</td>\n",
       "      <td>0</td>\n",
       "      <td>4.247935e+05</td>\n",
       "    </tr>\n",
       "    <tr>\n",
       "      <th>396461</th>\n",
       "      <td>2.0</td>\n",
       "      <td>1.0</td>\n",
       "      <td>0.00</td>\n",
       "      <td>800.0</td>\n",
       "      <td>590000.0</td>\n",
       "      <td>0</td>\n",
       "      <td>5.770245e+05</td>\n",
       "    </tr>\n",
       "    <tr>\n",
       "      <th>573112</th>\n",
       "      <td>2.0</td>\n",
       "      <td>2.0</td>\n",
       "      <td>0.00</td>\n",
       "      <td>1434.0</td>\n",
       "      <td>319000.0</td>\n",
       "      <td>0</td>\n",
       "      <td>4.123889e+05</td>\n",
       "    </tr>\n",
       "    <tr>\n",
       "      <th>93833</th>\n",
       "      <td>5.0</td>\n",
       "      <td>2.0</td>\n",
       "      <td>0.15</td>\n",
       "      <td>1629.0</td>\n",
       "      <td>250000.0</td>\n",
       "      <td>0</td>\n",
       "      <td>3.251828e+05</td>\n",
       "    </tr>\n",
       "    <tr>\n",
       "      <th>48675</th>\n",
       "      <td>3.0</td>\n",
       "      <td>2.0</td>\n",
       "      <td>0.24</td>\n",
       "      <td>1004.0</td>\n",
       "      <td>229900.0</td>\n",
       "      <td>0</td>\n",
       "      <td>2.729632e+05</td>\n",
       "    </tr>\n",
       "    <tr>\n",
       "      <th>602448</th>\n",
       "      <td>6.0</td>\n",
       "      <td>2.0</td>\n",
       "      <td>0.05</td>\n",
       "      <td>3192.0</td>\n",
       "      <td>130000.0</td>\n",
       "      <td>1</td>\n",
       "      <td>1.493553e+05</td>\n",
       "    </tr>\n",
       "    <tr>\n",
       "      <th>479411</th>\n",
       "      <td>2.0</td>\n",
       "      <td>1.0</td>\n",
       "      <td>0.00</td>\n",
       "      <td>911.0</td>\n",
       "      <td>115000.0</td>\n",
       "      <td>0</td>\n",
       "      <td>3.361262e+05</td>\n",
       "    </tr>\n",
       "    <tr>\n",
       "      <th>149413</th>\n",
       "      <td>1.0</td>\n",
       "      <td>1.0</td>\n",
       "      <td>0.02</td>\n",
       "      <td>985.0</td>\n",
       "      <td>949000.0</td>\n",
       "      <td>0</td>\n",
       "      <td>1.067119e+06</td>\n",
       "    </tr>\n",
       "  </tbody>\n",
       "</table>\n",
       "</div>"
      ],
      "text/plain": [
       "        bed  bath  acre_lot  house_size   price_x  prev_sold     zip_price\n",
       "460525  4.0   3.0      0.33      2375.0  749000.0          1  5.220051e+05\n",
       "71474   3.0   3.0      0.33      1620.0  169000.0          0  1.912673e+05\n",
       "305056  1.0   1.0      0.00       888.0  375000.0          0  4.247935e+05\n",
       "396461  2.0   1.0      0.00       800.0  590000.0          0  5.770245e+05\n",
       "573112  2.0   2.0      0.00      1434.0  319000.0          0  4.123889e+05\n",
       "93833   5.0   2.0      0.15      1629.0  250000.0          0  3.251828e+05\n",
       "48675   3.0   2.0      0.24      1004.0  229900.0          0  2.729632e+05\n",
       "602448  6.0   2.0      0.05      3192.0  130000.0          1  1.493553e+05\n",
       "479411  2.0   1.0      0.00       911.0  115000.0          0  3.361262e+05\n",
       "149413  1.0   1.0      0.02       985.0  949000.0          0  1.067119e+06"
      ]
     },
     "execution_count": 170,
     "metadata": {},
     "output_type": "execute_result"
    }
   ],
   "source": [
    "df4.sample(10)"
   ]
  },
  {
   "cell_type": "markdown",
   "metadata": {},
   "source": [
    "Now that we have a clean dataset, this notebook will be used to build our data cleaning script. "
   ]
  }
 ],
 "metadata": {
  "kernelspec": {
   "display_name": "base",
   "language": "python",
   "name": "python3"
  },
  "language_info": {
   "codemirror_mode": {
    "name": "ipython",
    "version": 3
   },
   "file_extension": ".py",
   "mimetype": "text/x-python",
   "name": "python",
   "nbconvert_exporter": "python",
   "pygments_lexer": "ipython3",
   "version": "3.11.5"
  }
 },
 "nbformat": 4,
 "nbformat_minor": 2
}
